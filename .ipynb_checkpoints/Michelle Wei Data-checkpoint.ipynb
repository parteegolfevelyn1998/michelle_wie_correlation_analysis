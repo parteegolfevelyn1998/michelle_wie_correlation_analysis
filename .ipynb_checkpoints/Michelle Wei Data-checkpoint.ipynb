{
 "cells": [
  {
   "cell_type": "code",
   "execution_count": null,
   "id": "e9c9ce48",
   "metadata": {},
   "outputs": [],
   "source": [
    "import requests\n",
    "import pandas as pd\n",
    "from bs4 import BeautifulSoup\n",
    "import re\n",
    "import cProfile\n",
    "from time import time\n",
    "from datetime import datetime\n",
    "import numpy as np\n",
    "import seaborn as sns\n",
    "import collections\n",
    "import ast\n",
    "from matplotlib import pyplot as plt\n",
    "from scipy.stats import ttest_ind"
   ]
  },
  {
   "cell_type": "markdown",
   "id": "8e46bb58",
   "metadata": {},
   "source": [
    "# Research Questions : Did education impact Michelle Wei's ability to play in LPGA ? What are some key parameters that impacted a player's average score ? (Use M.W. as the example)"
   ]
  },
  {
   "cell_type": "markdown",
   "id": "39305d1b",
   "metadata": {},
   "source": [
    "# Data Collection"
   ]
  },
  {
   "cell_type": "markdown",
   "id": "6e9a2901",
   "metadata": {},
   "source": [
    "## Gather Michelle Wei's data from LPGA website using beautifulsoup and request module\n",
    "## Store the data into CSV files"
   ]
  },
  {
   "cell_type": "markdown",
   "id": "524f6e71",
   "metadata": {},
   "source": [
    "## Game level data ( Yearly)"
   ]
  },
  {
   "cell_type": "code",
   "execution_count": null,
   "id": "e2a8f377",
   "metadata": {},
   "outputs": [],
   "source": [
    "# LPGA Parser for individual's historical game record - raw data (each game)\n",
    "model_list_2 = []\n",
    "end_year = 2023\n",
    "year_list = list(range(2002,end_year))\n",
    "for year in year_list:\n",
    "    link_to_parse= f\"https://www.lpga.com/players/michelle-wie/88106/results?filters={year}&archive=\"\n",
    "    if BeautifulSoup(requests.get(link_to_parse).content, 'html.parser').find_all(class_=\"table\") == []:\n",
    "            #If html table is empty, no data for that player in a specific year\n",
    "        pass\n",
    "    else:\n",
    "        player_df = pd.read_html(link_to_parse)[0].droplevel(0, axis=1) \n",
    "        for i in range(0, len(player_df.to_numpy())):\n",
    "            temp_row = []\n",
    "            for j in range(0, len(player_df.to_numpy()[i])):\n",
    "                temp_row.append(player_df.to_numpy()[i][j])\n",
    "            model_list_2.append(temp_row)\n",
    "df = pd.DataFrame(model_list_2)\n",
    "df.columns =['Date','Tournament Name', '1','2','3','4','Total','Final POS','TOT Strokes','TOT Rounds','Score AVG','Official Money']\n",
    "df.to_csv(\"player_michelle_wei_historical_LPGA_data.csv\")"
   ]
  },
  {
   "cell_type": "markdown",
   "id": "dd2a8706",
   "metadata": {},
   "source": [
    "## Yearly summary data"
   ]
  },
  {
   "cell_type": "code",
   "execution_count": null,
   "id": "20e64111",
   "metadata": {},
   "outputs": [],
   "source": [
    "# LPGA parser for individual's historical game record - summary data (year summary)\n",
    "list_of_df = []\n",
    "for year in year_list:\n",
    "    link_to_parse = f\"https://www.lpga.com/players/michelle-wie/88106/stats?filters={year}\"\n",
    "    pandas_table = pd.read_html(link_to_parse)[0].T\n",
    "    pandas_table.columns = pandas_table.loc['Performance'].tolist()\n",
    "    pandas_table.reset_index(inplace = True)\n",
    "    pandas_table = pandas_table.drop(0)\n",
    "    pandas_table = pandas_table.drop(columns=['index'])\n",
    "    pandas_table = pandas_table.set_axis(['Year to Date', 'Ranking'], axis=0)\n",
    "    pandas_table['Year'] = year\n",
    "    list_of_df.append(pandas_table)\n",
    "\n",
    "combined_df = pd.concat(list_of_df)\n",
    "combined_df = combined_df.sort_index()\n",
    "year_to_date_df = combined_df.loc['Year to Date']\n",
    "ranking_df = combined_df.loc['Ranking']\n",
    "year_to_date_df.to_csv(\"michelle_wei_year_to_date.csv\")\n",
    "ranking_df.to_csv(\"michelle_wei_ranking.csv\")"
   ]
  },
  {
   "cell_type": "markdown",
   "id": "80c03add",
   "metadata": {},
   "source": [
    "# Data Wrangling "
   ]
  },
  {
   "cell_type": "markdown",
   "id": "0f0ddd66",
   "metadata": {},
   "source": [
    "## Find the times when MW is studying at Stanford"
   ]
  },
  {
   "cell_type": "code",
   "execution_count": null,
   "id": "3fa895c4",
   "metadata": {},
   "outputs": [],
   "source": [
    "Stanford_start_time = \"09/01/2007\"\n",
    "Stanford_end_time = \"06/17/2012\"\n",
    "Stanford_start_time = datetime.strptime(Stanford_start_time, \"%m/%d/%Y\")\n",
    "Stanford_end_time = datetime.strptime(Stanford_end_time, \"%m/%d/%Y\")"
   ]
  },
  {
   "cell_type": "code",
   "execution_count": null,
   "id": "c8126209",
   "metadata": {},
   "outputs": [],
   "source": [
    "game_level_df = pd.read_csv(\"player_michelle_wei_historical_LPGA_data.csv\")\n",
    "#Convert Date column into datetime formate\n",
    "game_level_df['Date']= pd.to_datetime(game_level_df['Date'])\n",
    "#Sort the games by date in ascending order\n",
    "game_level_df.sort_values(by = \"Date\", ascending=True)\n",
    "#Remove Score AVG = 0 entries\n",
    "game_level_df = game_level_df[game_level_df['Score AVG'] != 0]\n",
    "#Drop unnamed column\n",
    "game_level_df.drop([\"Unnamed: 0\"], axis = 1, inplace = True)"
   ]
  },
  {
   "cell_type": "markdown",
   "id": "b7e1b7dc",
   "metadata": {},
   "source": [
    "## Print out the dataframe"
   ]
  },
  {
   "cell_type": "code",
   "execution_count": null,
   "id": "cbabea53",
   "metadata": {
    "scrolled": true
   },
   "outputs": [],
   "source": [
    "game_level_df"
   ]
  },
  {
   "cell_type": "markdown",
   "id": "1e7dadfc",
   "metadata": {},
   "source": [
    "## Split MW's time into 3 sub categories \n",
    "## 1 represents the time before she joined Stanford\n",
    "## 2 represents the time when she was at Stanford\n",
    "## 3 represents the time after she graduated from Stanford"
   ]
  },
  {
   "cell_type": "code",
   "execution_count": null,
   "id": "e52de826",
   "metadata": {},
   "outputs": [],
   "source": [
    "def categorize(row):  \n",
    "    if pd.Timedelta(row['Date'] - Stanford_end_time).days > 0:\n",
    "        return 3\n",
    "    elif pd.Timedelta(row['Date'] - Stanford_start_time).days < 0 :\n",
    "        return 1\n",
    "    elif(pd.Timedelta(row['Date'] -  Stanford_start_time).days) > 0 :\n",
    "        return 2"
   ]
  },
  {
   "cell_type": "code",
   "execution_count": null,
   "id": "25fac2a1",
   "metadata": {},
   "outputs": [],
   "source": [
    "game_level_df['History'] = game_level_df.apply(lambda row: categorize(row), axis=1)"
   ]
  },
  {
   "cell_type": "markdown",
   "id": "1d407371",
   "metadata": {},
   "source": [
    "game_level_df.groupby(pd.Grouper(key='History', axis=0)).median()"
   ]
  },
  {
   "cell_type": "code",
   "execution_count": null,
   "id": "0e49d698",
   "metadata": {},
   "outputs": [],
   "source": [
    "game_level_df.groupby(pd.Grouper(key='History', axis=0)).mean()"
   ]
  },
  {
   "cell_type": "code",
   "execution_count": null,
   "id": "13796514",
   "metadata": {
    "scrolled": true
   },
   "outputs": [],
   "source": [
    "game_level_df.groupby(pd.Grouper(key='History', axis=0)).count()"
   ]
  },
  {
   "cell_type": "markdown",
   "id": "35d4cbac",
   "metadata": {},
   "source": [
    "## After data wrangling, the data shows that during her time at Stanford (2) , her score average was not higher than her other times (1, 3). Additionally, her average total rounds increased to a 3.3 compared to 3.23 before she joined Stanford. This indicates that she was able to play a few more rounds per tournament on average while she is still studying.  If we look at the number of events played during her different times, the number of events played gradually increased. This is a clear evidence that she can handle both school and golf."
   ]
  },
  {
   "cell_type": "markdown",
   "id": "51ceb8f1",
   "metadata": {},
   "source": [
    "# Read in summary data"
   ]
  },
  {
   "cell_type": "code",
   "execution_count": null,
   "id": "9d55cb8d",
   "metadata": {},
   "outputs": [],
   "source": [
    "def p2f(x):\n",
    "    return float(x.strip('%'))/100"
   ]
  },
  {
   "cell_type": "code",
   "execution_count": null,
   "id": "b5ed4248",
   "metadata": {},
   "outputs": [],
   "source": [
    "MW = pd.read_csv(\"michelle_wei_year_to_date.csv\")\n",
    "MW = MW.sort_values(\"Year\")\n",
    "MW.drop(['Unnamed: 0'], axis=1, inplace=True)\n",
    "MW['Driving Accuracy'] = MW['Driving Accuracy'].str.rstrip('%').astype('float') / 100.0\n",
    "MW['Greens in Regulation'] = MW['Greens in Regulation'].str.rstrip('%').astype('float') / 100.0\n",
    "MW['Sand Saves'] = MW['Sand Saves'].str.rstrip('%').astype('float') / 100.0"
   ]
  },
  {
   "cell_type": "code",
   "execution_count": null,
   "id": "b2de0b25",
   "metadata": {},
   "outputs": [],
   "source": [
    "MW= MW[MW['Average Driving Distance'] != 0]\n",
    "MW.reset_index(drop=True, inplace = True)\n",
    "#Convert Year column into datetime formate\n",
    "MW['Year']= pd.to_datetime(MW['Year'], format='%Y')"
   ]
  },
  {
   "cell_type": "markdown",
   "id": "c9fa7c22",
   "metadata": {},
   "source": [
    "# Plots for Scoring Average and Total Strokes by year"
   ]
  },
  {
   "cell_type": "code",
   "execution_count": null,
   "id": "66c792e0",
   "metadata": {
    "scrolled": true
   },
   "outputs": [],
   "source": [
    "game_level_df.plot('Date','Score AVG', title=\"Scoring Average by year\")"
   ]
  },
  {
   "cell_type": "code",
   "execution_count": null,
   "id": "8b8a7d71",
   "metadata": {
    "scrolled": true
   },
   "outputs": [],
   "source": [
    "game_level_df.plot('Date','TOT Strokes', title = \"Total Storkes by year\")"
   ]
  },
  {
   "cell_type": "code",
   "execution_count": null,
   "id": "a8f1f969",
   "metadata": {},
   "outputs": [],
   "source": [
    "def categorize(row):  \n",
    "    if pd.Timedelta(row['Year'] - Stanford_end_time).days > 0:\n",
    "        return 3\n",
    "    elif pd.Timedelta(row['Year'] - Stanford_start_time).days < 0 :\n",
    "        return 1\n",
    "    elif(pd.Timedelta(row['Year'] -  Stanford_start_time).days) > 0 :\n",
    "        return 2"
   ]
  },
  {
   "cell_type": "code",
   "execution_count": null,
   "id": "1f7603e0",
   "metadata": {},
   "outputs": [],
   "source": [
    "MW['History'] = MW.apply(lambda row: categorize(row), axis=1)"
   ]
  },
  {
   "cell_type": "markdown",
   "id": "46ed4e44",
   "metadata": {},
   "source": [
    "## Generate Boxplots for better visualizations on some key golf performance comparisons during different times"
   ]
  },
  {
   "cell_type": "code",
   "execution_count": null,
   "id": "d8fa8869",
   "metadata": {},
   "outputs": [],
   "source": [
    "valid_plots = []\n",
    "attributes_to_be_plotted = [\"Average Driving Distance\", 'Driving Accuracy',\n",
    "       'Greens in Regulation', 'Putts per GIR', 'Putting Average',\n",
    "       'Sand Saves', 'Scoring Average', 'Rounds Under Par', 'Birdies',\n",
    "       'Eagles', \"Rounds in the 60's\", 'Sub Par Holes', 'Holes in One',\n",
    "       'Total Rounds Played', 'Total Events Played']\n",
    "for i in MW.columns:\n",
    "    try:\n",
    "        if i in attributes_to_be_plotted:\n",
    "            valid_plots.append(MW.boxplot(column=[i],by='History', fontsize = 15, figsize = [10,6]))\n",
    "        else:\n",
    "            \n",
    "            pass\n",
    "    except:\n",
    "        continue"
   ]
  },
  {
   "cell_type": "markdown",
   "id": "a60a51ca",
   "metadata": {},
   "source": [
    "## Perform Sample T Test on Average Driving Distance"
   ]
  },
  {
   "cell_type": "code",
   "execution_count": null,
   "id": "91353b1c",
   "metadata": {},
   "outputs": [],
   "source": [
    "print(ttest_ind(MW[MW['History']==1]['Average Driving Distance'], MW[MW['History']==2]['Average Driving Distance']))\n",
    "print(ttest_ind(MW[MW['History']==2]['Average Driving Distance'], MW[MW['History']==3]['Average Driving Distance']))\n"
   ]
  },
  {
   "cell_type": "markdown",
   "id": "02485b9c",
   "metadata": {},
   "source": [
    "## Combining the table results and plots above, sample T-test was run as an additional evidence to prove that the result is statistically significant on the average diriving distance before she attended Stanford and after she joined Stanford. In conclusion, higher education did not impact her ability to play as a professional player."
   ]
  },
  {
   "cell_type": "markdown",
   "id": "b2d7fe83",
   "metadata": {},
   "source": [
    "# Next, I am trying to answer the 2nd research question by looking at yearly summary data and its correlation matrix"
   ]
  },
  {
   "cell_type": "markdown",
   "id": "bfd52a9d",
   "metadata": {},
   "source": [
    "# Correlation study and Scatter plots"
   ]
  },
  {
   "cell_type": "code",
   "execution_count": null,
   "id": "6794dafa",
   "metadata": {
    "scrolled": false
   },
   "outputs": [],
   "source": [
    "corr = MW.corr()\n",
    "fig, ax1 = plt.subplots(1,1, figsize = (26.6,15))\n",
    "sns.set(font_scale = 1.15)\n",
    "plt.style.use('seaborn-poster')\n",
    "sns.set_style('whitegrid')\n",
    "plt.suptitle('Correlation Matrix', size  = 10, ha = 'center')\n",
    "\n",
    "sns.heatmap(corr, square = True, annot = True, linewidths = .5, cmap = sns.diverging_palette(220, 10, as_cmap = True), cbar = False, mask = np.triu(corr), fmt='.2f', ax = ax1)\n",
    "# sns.heatmap(corr[['Average Driving Distance']].sort_values(by = ['Average Driving Distance'], ascending=False), cbar = False, annot_kws={\"size\": 16},vmin=-1, cmap = sns.diverging_palette(220, 10, as_cmap = True), annot = True, ax = ax2)\n",
    "\n",
    "plt.tight_layout(pad = 1)\n",
    "plt.subplots_adjust(top = .9)\n",
    "plt.show()"
   ]
  },
  {
   "cell_type": "markdown",
   "id": "f3f13b64",
   "metadata": {},
   "source": [
    "## Plotting the correlation matrix against all recorded metrics in the yearly summary data. \n",
    "## I am particularly interested in seeing what impacts scoring average. Therefore, I plotted scoring average vs all other parameters. The result is as shown below."
   ]
  },
  {
   "cell_type": "code",
   "execution_count": null,
   "id": "1e7705dd",
   "metadata": {},
   "outputs": [],
   "source": [
    "def custom_scatter_plot(df, y, x_idx, plots_per_row):\n",
    "    sns.set(font_scale = 1.25)\n",
    "    plt.style.use('seaborn-poster')\n",
    "    \n",
    "    counter = 0\n",
    "    \n",
    "    for feature in x_idx:\n",
    "        plt.figure(np.floor_divide(counter, plots_per_row), figsize = (30,6))\n",
    "        plt.subplot(1 ,plots_per_row, np.mod(counter, plots_per_row) +1)\n",
    "        sns.scatterplot(x = df[feature], y = df[y].values, hue = df[feature], label = 'medium', palette= 'husl')\n",
    "        plt.legend(loc = 'best', prop={'size': 11})\n",
    "        counter+= 1"
   ]
  },
  {
   "cell_type": "code",
   "execution_count": null,
   "id": "d0101072",
   "metadata": {
    "scrolled": false
   },
   "outputs": [],
   "source": [
    "custom_scatter_plot(MW, 'Scoring Average', MW.columns, 3)"
   ]
  },
  {
   "cell_type": "code",
   "execution_count": null,
   "id": "da36d35f",
   "metadata": {},
   "outputs": [],
   "source": [
    "def reg_scatter(x, y, df):\n",
    "    fig = plt.figure(figsize=(24, 7))\n",
    "    sns.set(font_scale = 1.25)\n",
    "    plt.style.use('seaborn-poster')\n",
    "    plt.suptitle(f'{x} vs. {y}', size  = 20, color = 'black', ha = 'center')\n",
    "    \n",
    "    fig1 = fig.add_subplot(121); sns.scatterplot(MW[x], MW[y], data = df).set(xlim = (-50 + min(df[x]), (max(df[x] + 50))))\n",
    "    fig2 = fig.add_subplot(122); sns.regplot(MW[x], MW[y], data = df, scatter_kws = {'color': 'g'}, line_kws = {'color': 'red'}).set(xlim = (-50 + min(df[x]), (max(df[x] + 50))))\n",
    "    \n",
    "    plt.show()"
   ]
  },
  {
   "cell_type": "code",
   "execution_count": null,
   "id": "95a64805",
   "metadata": {
    "scrolled": true
   },
   "outputs": [],
   "source": [
    "reg_scatter(\"Scoring Average\", \"Driving Accuracy\", MW)"
   ]
  },
  {
   "cell_type": "code",
   "execution_count": null,
   "id": "c8ed2fea",
   "metadata": {
    "scrolled": true
   },
   "outputs": [],
   "source": [
    "reg_scatter(\"Scoring Average\", \"Average Driving Distance\", MW)"
   ]
  },
  {
   "cell_type": "code",
   "execution_count": null,
   "id": "5448a444",
   "metadata": {
    "scrolled": true
   },
   "outputs": [],
   "source": [
    "reg_scatter(\"Scoring Average\", \"Greens in Regulation\", MW)"
   ]
  },
  {
   "cell_type": "code",
   "execution_count": null,
   "id": "357fc635",
   "metadata": {
    "scrolled": true
   },
   "outputs": [],
   "source": [
    "reg_scatter(\"Scoring Average\", \"Putts per GIR\", MW)"
   ]
  },
  {
   "cell_type": "markdown",
   "id": "5d3bf8ae",
   "metadata": {},
   "source": [
    "## The data shows that green in regulation (GIR), driving accuracy and average driving distance have a negative correlation with Average Score. This is meaningful as player strives to increase their striking accuracy in an effort to decrease their average swing. Total rounds played and events attended have little to no correlation to the average score. This points to the fact that the more games you played, not necessarily , the better you will be from an average score persepctive. On the postivie correlation side, Putss per GIR is highly correlated to scoring average. This is because number of putts is part of scoring average's calucation. The more putts per GIR , the higher the average swings needed. Finally, all the other parameters show a weak or no correlation to scoring average at all."
   ]
  },
  {
   "cell_type": "code",
   "execution_count": null,
   "id": "5b8f0ab7",
   "metadata": {},
   "outputs": [],
   "source": [
    "conda install pandoc"
   ]
  },
  {
   "cell_type": "code",
   "execution_count": null,
   "id": "d883267f",
   "metadata": {},
   "outputs": [],
   "source": []
  }
 ],
 "metadata": {
  "kernelspec": {
   "display_name": "Python 3 (ipykernel)",
   "language": "python",
   "name": "python3"
  },
  "language_info": {
   "codemirror_mode": {
    "name": "ipython",
    "version": 3
   },
   "file_extension": ".py",
   "mimetype": "text/x-python",
   "name": "python",
   "nbconvert_exporter": "python",
   "pygments_lexer": "ipython3",
   "version": "3.7.11"
  }
 },
 "nbformat": 4,
 "nbformat_minor": 5
}
